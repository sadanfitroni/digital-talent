{
 "cells": [
  {
   "cell_type": "markdown",
   "metadata": {},
   "source": [
    "## LATIHAN 3 - Word Count¶\n",
    "Diberikan sebuah paragraf, hitunglah banyak kemunculan masing-masing kata. Contoh : \"Presiden pagi ini melakukan kunjungan ke Jogja\"\n",
    "\n",
    "presiden: 1\n",
    "pagi: 1\n",
    "ini: 1\n",
    "melakukan: 1\n",
    "kunjungan: 1\n",
    "ke: 1\n",
    "jogja: 1\n",
    "hints: Gunakan Dictionary dalam menyimpan word count. Gunakan kata sebagai key, dan jumlah kemunculan sebagai value"
   ]
  },
  {
   "cell_type": "code",
   "execution_count": 1,
   "metadata": {},
   "outputs": [
    {
     "name": "stdout",
     "output_type": "stream",
     "text": [
      "Barcelona berhasil merebut posisi puncak klasemen La Liga Spanyol seusai menang 4-2 atas Sevilla pada pertandingan pekan kesembilan di Stadion Camp Nou, Sabtu (20/10/2018) atau Minggu dini hari WIB. Barcelona membuka keunggulan pada menit ke-2 melalui gol yang dicetak oleh Philippe Coutinho. Lionel Messi menggandakan keunggulan Barcelona, 10 menit berselang. Namun, nahas bagi Barcelona, karena Messi harus ditarik keluar pada menit ke-26 setelah mengalami cedera. Tanpa Messi, skor 2-0 bertahan hingga babak pertama berakhir.\n"
     ]
    }
   ],
   "source": [
    "#Tugas Word Count \n",
    "\n",
    "paragraf = \"Barcelona berhasil merebut posisi puncak klasemen La Liga Spanyol seusai menang 4-2 atas Sevilla pada pertandingan pekan kesembilan di Stadion Camp Nou, Sabtu (20/10/2018) atau Minggu dini hari WIB. Barcelona membuka keunggulan pada menit ke-2 melalui gol yang dicetak oleh Philippe Coutinho. Lionel Messi menggandakan keunggulan Barcelona, 10 menit berselang. Namun, nahas bagi Barcelona, karena Messi harus ditarik keluar pada menit ke-26 setelah mengalami cedera. Tanpa Messi, skor 2-0 bertahan hingga babak pertama berakhir.\"\n",
    "print(paragraf)\n",
    "# for n in paragraf:\n",
    "#     #print(n,end =' ')\n",
    "#     paragraf = paragraf.replace(',',' ')\n",
    "#     paragraf = paragraf.replace('.', ' ')\n",
    "#     kata = paragraf.split()\n",
    "# print(kata)\n"
   ]
  },
  {
   "cell_type": "code",
   "execution_count": 11,
   "metadata": {},
   "outputs": [
    {
     "name": "stdout",
     "output_type": "stream",
     "text": [
      "['Barcelona', 'berhasil', 'merebut', 'posisi', 'puncak', 'klasemen', 'La', 'Liga', 'Spanyol', 'seusai', 'menang', '4-2', 'atas', 'Sevilla', 'pada', 'pertandingan', 'pekan', 'kesembilan', 'di', 'Stadion', 'Camp', 'Nou', 'Sabtu', '(20/10/2018)', 'atau', 'Minggu', 'dini', 'hari', 'WIB', 'Barcelona', 'membuka', 'keunggulan', 'pada', 'menit', 'ke-2', 'melalui', 'gol', 'yang', 'dicetak', 'oleh', 'Philippe', 'Coutinho', 'Lionel', 'Messi', 'menggandakan', 'keunggulan', 'Barcelona', '10', 'menit', 'berselang', 'Namun', 'nahas', 'bagi', 'Barcelona', 'karena', 'Messi', 'harus', 'ditarik', 'keluar', 'pada', 'menit', 'ke-26', 'setelah', 'mengalami', 'cedera', 'Tanpa', 'Messi', 'skor', '2-0', 'bertahan', 'hingga', 'babak', 'pertama', 'berakhir']\n"
     ]
    }
   ],
   "source": [
    "# Karena titik(.), dan comma(,) tidak akan digunakan maka harus direplace terlebih dahulu\n",
    "for n in paragraf:\n",
    "    paragraf = paragraf.replace('.','')\n",
    "    paragraf = paragraf.replace(',','')\n",
    "    # print(n, end='')\n",
    "    # Split paragraf menjadi satuan kata\n",
    "    kata = paragraf.split()\n",
    "print(kata)"
   ]
  },
  {
   "cell_type": "code",
   "execution_count": 12,
   "metadata": {},
   "outputs": [
    {
     "name": "stdout",
     "output_type": "stream",
     "text": [
      "{'Barcelona': 4, 'berhasil': 1, 'merebut': 1, 'posisi': 1, 'puncak': 1, 'klasemen': 1, 'La': 1, 'Liga': 1, 'Spanyol': 1, 'seusai': 1, 'menang': 1, '4-2': 1, 'atas': 1, 'Sevilla': 1, 'pada': 3, 'pertandingan': 1, 'pekan': 1, 'kesembilan': 1, 'di': 1, 'Stadion': 1, 'Camp': 1, 'Nou': 1, 'Sabtu': 1, '(20/10/2018)': 1, 'atau': 1, 'Minggu': 1, 'dini': 1, 'hari': 1, 'WIB': 1, 'membuka': 1, 'keunggulan': 2, 'menit': 3, 'ke-2': 1, 'melalui': 1, 'gol': 1, 'yang': 1, 'dicetak': 1, 'oleh': 1, 'Philippe': 1, 'Coutinho': 1, 'Lionel': 1, 'Messi': 3, 'menggandakan': 1, '10': 1, 'berselang': 1, 'Namun': 1, 'nahas': 1, 'bagi': 1, 'karena': 1, 'harus': 1, 'ditarik': 1, 'keluar': 1, 'ke-26': 1, 'setelah': 1, 'mengalami': 1, 'cedera': 1, 'Tanpa': 1, 'skor': 1, '2-0': 1, 'bertahan': 1, 'hingga': 1, 'babak': 1, 'pertama': 1, 'berakhir': 1}\n"
     ]
    }
   ],
   "source": [
    "# Menghitung masing-masing jumlah kata\n",
    "result = {}\n",
    "for n in kata:\n",
    "    if n not in result:\n",
    "        result[n] = 1\n",
    "    else: \n",
    "        result[n] = result[n] + 1\n",
    "print(result)"
   ]
  },
  {
   "cell_type": "code",
   "execution_count": null,
   "metadata": {},
   "outputs": [],
   "source": []
  }
 ],
 "metadata": {
  "kernelspec": {
   "display_name": "Python 3",
   "language": "python",
   "name": "python3"
  },
  "language_info": {
   "codemirror_mode": {
    "name": "ipython",
    "version": 3
   },
   "file_extension": ".py",
   "mimetype": "text/x-python",
   "name": "python",
   "nbconvert_exporter": "python",
   "pygments_lexer": "ipython3",
   "version": "3.7.0"
  }
 },
 "nbformat": 4,
 "nbformat_minor": 2
}
