{
 "cells": [
  {
   "cell_type": "markdown",
   "metadata": {},
   "source": [
    "## Body Max Index Program\n",
    "#### Variabel height dan weight bertipe float, karena bilangan desimal"
   ]
  },
  {
   "cell_type": "code",
   "execution_count": 1,
   "metadata": {},
   "outputs": [
    {
     "name": "stdout",
     "output_type": "stream",
     "text": [
      "input Your Height (Meter) : 1.65\n",
      "input Your Weight (Kg) : 65\n",
      "Your bmi : 23.875114784205696\n",
      "Normal(Helthy Weight)\n",
      "End\n"
     ]
    }
   ],
   "source": [
    "#Body Max Index Program\n",
    "\n",
    "height = float (input(\"input Your Height (Meter) : \"))\n",
    "weight = float (input(\"input Your Weight (Kg) : \"))\n",
    "\n",
    "bmi = (weight)/(height*height)\n",
    "print(\"Your bmi :\", +bmi)\n",
    "\n",
    "if bmi < 15:\n",
    "    print(\"Very Severely Underweight\")\n",
    "elif bmi >= 15 and bmi <= 16:\n",
    "    print(\"Severely Underweight\")\n",
    "elif bmi >=16 and bmi <= 18.5: \n",
    "    print(\"Underweight\")\n",
    "elif bmi >=18.5 and bmi <=25:\n",
    "    print(\"Normal(Helthy Weight)\")\n",
    "elif bmi >= 25 and bmi <=30:\n",
    "    print(\"Overweight\")\n",
    "elif bmi >=30 and bmi <=35: \n",
    "    print(\"Moderately Obese\")\n",
    "elif bmi >=35 and bmi <=40:\n",
    "    print(\"Severely Obese\")\n",
    "elif bmi>40:\n",
    "    print(\"Very Severely Obese\")\n",
    "print(\"End\")"
   ]
  },
  {
   "cell_type": "markdown",
   "metadata": {},
   "source": [
    "# "
   ]
  }
 ],
 "metadata": {
  "kernelspec": {
   "display_name": "Python 3",
   "language": "python",
   "name": "python3"
  },
  "language_info": {
   "codemirror_mode": {
    "name": "ipython",
    "version": 3
   },
   "file_extension": ".py",
   "mimetype": "text/x-python",
   "name": "python",
   "nbconvert_exporter": "python",
   "pygments_lexer": "ipython3",
   "version": "3.7.0"
  }
 },
 "nbformat": 4,
 "nbformat_minor": 2
}
