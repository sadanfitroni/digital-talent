{
 "cells": [
  {
   "cell_type": "markdown",
   "metadata": {},
   "source": [
    "## LATIHAN 2 - Tugas List Nilai\n",
    "Diberikan sekumpulan Nilai Random antara 0 sampai dengan 100 sebanyak 250 nilai. Buatlah program untuk melakukan hal berikut:\n",
    "\n",
    "1. Tampilkan Angka Ganjil dari ke 250 nilai tersebut\n",
    "2. Tampilkan berapa banyak yang mendapatkan nilai lebih dari 70\n",
    "3. Tampilkan standar deviasi dari sekumpulan nilai tersebut\n",
    "4. Tampilkan nilai maksimum dan minimum\n",
    "5. Tampilkan modus dari sekumpulan nilai tersebut\n"
   ]
  },
  {
   "cell_type": "code",
   "execution_count": 40,
   "metadata": {},
   "outputs": [
    {
     "name": "stdout",
     "output_type": "stream",
     "text": [
      "Result of Random Data : \n",
      "\n",
      "[28, 32, 85, 53, 58, 85, 74, 21, 92, 48, 87, 30, 31, 58, 84, 77, 88, 9, 7, 74, 12, 7, 96, 77, 34, 76, 52, 99, 18, 82, 40, 72, 50, 6, 55, 21, 35, 43, 11, 71, 51, 77, 61, 74, 48, 97, 51, 68, 42, 44, 86, 6, 19, 57, 74, 78, 95, 41, 57, 92, 19, 60, 36, 96, 27, 4, 66, 86, 58, 50, 56, 6, 83, 34, 3, 14, 39, 34, 19, 4, 94, 23, 81, 41, 16, 99, 84, 55, 60, 89, 55, 89, 81, 60, 46, 52, 99, 30, 69, 89, 40, 51, 8, 18, 84, 72, 16, 9, 1, 30, 88, 38, 92, 87, 46, 34, 75, 23, 81, 62, 83, 53, 55, 88, 15, 8, 15, 88, 25, 73, 40, 47, 47, 43, 76, 22, 35, 95, 73, 58, 56, 15, 1, 77, 67, 57, 82, 88, 46, 61, 57, 74, 74, 45, 32, 13, 13, 36, 35, 33, 12, 87, 41, 14, 83, 33, 91, 83, 46, 86, 54, 94, 52, 94, 22, 89, 80, 14, 46, 96, 41, 24, 40, 52, 4, 83, 62, 43, 68, 4, 85, 70, 87, 92, 20, 53, 85, 96, 5, 29, 17, 3, 72, 52, 66, 3, 20, 28, 5, 13, 73, 19, 75, 72, 22, 72, 87, 58, 36, 1, 8, 24, 59, 83, 26, 91, 49, 87, 62, 57, 77, 15, 5, 89, 62, 36, 13, 77, 46, 38, 93, 51, 97, 63, 30, 29, 48, 31, 66, 42]\n"
     ]
    }
   ],
   "source": [
    "import random \n",
    "import math \n",
    "\n",
    "# Generate Random \n",
    "nilaiTugas = []\n",
    "for i in range(250):\n",
    "    nilaiTugas.append(random.randrange(1,100,1))\n",
    "print(\"Result of Random Data : \\n\")\n",
    "print(nilaiTugas)\n",
    "\n",
    "bil_ganjil = []\n",
    "greater_than70 = []\n",
    "minimum = 100 \n",
    "maximum = 0 \n",
    "total = 0\n",
    "tot_quadrat = 0\n",
    "list_modus = {}\n",
    "for n in nilaiTugas:\n",
    "    # Cek Bilangan Ganjil\n",
    "    if n % 2 !=0: \n",
    "        ganjil.append(n)\n",
    "    # Cek nilai >70\n",
    "    if n > 70: \n",
    "        greater_than70.append(n)\n",
    "    # Maximum value \n",
    "    if n > maximum:\n",
    "        maximum = n\n",
    "    # Minimum value\n",
    "    if n < minimum: \n",
    "        minimum = n\n",
    "    # Modus \n",
    "    if n not in list_modus:\n",
    "        list_modus[n] = 1 \n",
    "    else:\n",
    "        list_modus[n] = list_modus[n] + 1\n",
    "    \n",
    "    # Standar Deviasi\n",
    "    total = total + n \n",
    "    tot_quadrat = tot_quadrat + (n**2)\n",
    "    data = len(nilaiTugas)\n",
    "    varian = ((data * (tot_quadrat)) - (total**2)) / (data*(data-1))\n",
    "    stdev = math.sqrt(varian)\n",
    "    output = round(stdev,2)"
   ]
  },
  {
   "cell_type": "markdown",
   "metadata": {},
   "source": [
    "## 1. Tampilkan Bilangan Ganjil dari ke 250 data tersebut\n"
   ]
  },
  {
   "cell_type": "code",
   "execution_count": 10,
   "metadata": {},
   "outputs": [
    {
     "name": "stdout",
     "output_type": "stream",
     "text": [
      "[65, 9, 49, 77, 53, 75, 37, 65, 35, 59, 23, 53, 15, 73, 87, 79, 87, 17, 97, 59, 51, 15, 81, 55, 93, 21, 99, 29, 17, 7, 93, 99, 85, 57, 7, 81, 7, 97, 75, 65, 73, 61, 65, 1, 57, 5, 89, 89, 63, 33, 3, 65, 11, 1, 25, 13, 83, 57, 61, 41, 29, 3, 7, 69, 55, 31, 7, 17, 29, 73, 23, 61, 35, 83, 31, 85, 25, 51, 5, 35, 11, 15, 15, 45, 35, 99, 23, 27, 15, 57, 81, 51, 83, 35, 3, 99, 73, 15, 65, 15, 65, 79, 47, 27, 87, 9, 3, 21, 7, 11, 39, 27, 69, 81, 5, 57, 43, 73, 53, 57, 65, 51, 21, 67, 95]\n"
     ]
    }
   ],
   "source": [
    "# Print Bilangan Ganjil\n",
    "print(ganjil)"
   ]
  },
  {
   "cell_type": "markdown",
   "metadata": {},
   "source": [
    "## 2. Tampilkan berapa banyak yang mendapatkan nilai lebih dari 70"
   ]
  },
  {
   "cell_type": "code",
   "execution_count": 14,
   "metadata": {},
   "outputs": [
    {
     "name": "stdout",
     "output_type": "stream",
     "text": [
      "Jumlah Nilai >70 adalah: 63\n",
      "[72, 77, 75, 96, 96, 96, 73, 87, 79, 87, 88, 97, 81, 93, 99, 93, 88, 92, 99, 96, 85, 94, 81, 97, 90, 75, 82, 98, 73, 89, 89, 76, 83, 80, 90, 74, 78, 78, 80, 73, 82, 90, 83, 85, 82, 86, 99, 81, 90, 82, 83, 92, 99, 73, 79, 87, 98, 78, 81, 73, 74, 88, 95]\n"
     ]
    }
   ],
   "source": [
    "print(\"Jumlah Nilai >70 adalah:\", len(greater_than70))\n",
    "print(greater_than70)"
   ]
  },
  {
   "cell_type": "markdown",
   "metadata": {},
   "source": [
    "## 3. Tampilkan standar deviasi dari sekumpulan nilai tersebut\n"
   ]
  },
  {
   "cell_type": "code",
   "execution_count": 41,
   "metadata": {},
   "outputs": [
    {
     "name": "stdout",
     "output_type": "stream",
     "text": [
      "Standar Deviasi: 28.6\n"
     ]
    }
   ],
   "source": [
    "print(\"Standar Deviasi:\",end= ' ')\n",
    "print(output)"
   ]
  },
  {
   "cell_type": "markdown",
   "metadata": {},
   "source": [
    "## 4. Tampilkan nilai maksimum dan minimum"
   ]
  },
  {
   "cell_type": "code",
   "execution_count": 25,
   "metadata": {},
   "outputs": [
    {
     "name": "stdout",
     "output_type": "stream",
     "text": [
      "Nilai Maksimum:\n",
      "99\n",
      "Nilai Minimum:\n",
      "1\n"
     ]
    }
   ],
   "source": [
    "print(\"Nilai Maksimum:\") \n",
    "print(maximum)\n",
    "print(\"Nilai Minimum:\")\n",
    "print(minimum)"
   ]
  },
  {
   "cell_type": "markdown",
   "metadata": {},
   "source": [
    "## 5. Tampilkan modus dari sekumpulan nilai tersebut"
   ]
  },
  {
   "cell_type": "code",
   "execution_count": 33,
   "metadata": {},
   "outputs": [
    {
     "name": "stdout",
     "output_type": "stream",
     "text": [
      "{98: 3, 13: 5, 60: 6, 7: 1, 3: 2, 91: 1, 94: 2, 6: 3, 99: 2, 11: 5, 36: 2, 20: 4, 61: 2, 56: 3, 78: 3, 59: 2, 10: 4, 27: 4, 49: 3, 69: 5, 41: 3, 87: 1, 97: 7, 18: 2, 15: 3, 29: 1, 71: 4, 32: 1, 90: 7, 38: 3, 96: 4, 45: 3, 25: 3, 57: 2, 26: 2, 80: 4, 47: 4, 30: 2, 28: 3, 16: 3, 8: 3, 19: 2, 75: 1, 62: 3, 14: 2, 23: 1, 66: 1, 4: 3, 76: 4, 42: 2, 63: 4, 64: 3, 58: 2, 81: 3, 88: 1, 52: 2, 24: 2, 84: 4, 46: 4, 89: 2, 68: 3, 34: 2, 5: 4, 2: 2, 39: 2, 92: 2, 31: 3, 37: 6, 77: 5, 67: 3, 51: 1, 82: 2, 50: 3, 35: 2, 65: 2, 17: 1, 53: 1, 70: 1, 21: 3, 55: 1, 48: 2, 79: 1, 9: 1, 83: 3, 73: 5, 1: 3, 86: 1, 44: 1, 74: 2, 95: 2, 40: 3, 93: 1, 12: 1, 54: 1, 85: 1}\n",
      "Ada 2 nilai dengan kemunculan 7 kali\n",
      "[97, 90]\n"
     ]
    }
   ],
   "source": [
    "print(list_modus)\n",
    "max_value = 0 \n",
    "for key in list_modus:\n",
    "    if list_modus[key] > max_value:\n",
    "        max_value = list_modus[key]\n",
    "modus = []\n",
    "# take value from \n",
    "for key in list_modus:\n",
    "    if list_modus[key] == max_value:\n",
    "        modus.append(key)\n",
    "print(\"Ada\", len(modus), \"nilai dengan kemunculan\", max_value, \"kali\")\n",
    "print(modus)\n",
    "    "
   ]
  },
  {
   "cell_type": "code",
   "execution_count": null,
   "metadata": {},
   "outputs": [],
   "source": []
  }
 ],
 "metadata": {
  "kernelspec": {
   "display_name": "Python 3",
   "language": "python",
   "name": "python3"
  },
  "language_info": {
   "codemirror_mode": {
    "name": "ipython",
    "version": 3
   },
   "file_extension": ".py",
   "mimetype": "text/x-python",
   "name": "python",
   "nbconvert_exporter": "python",
   "pygments_lexer": "ipython3",
   "version": "3.7.0"
  }
 },
 "nbformat": 4,
 "nbformat_minor": 2
}
